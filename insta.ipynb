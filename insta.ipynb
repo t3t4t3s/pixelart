{
 "cells": [
  {
   "cell_type": "markdown",
   "id": "3e1eb14f",
   "metadata": {},
   "source": [
    "<h1 align=\"center\">GENERATE INSTAGRAM IMAGES</h1>\n"
   ]
  },
  {
   "cell_type": "code",
   "execution_count": null,
   "id": "c9f0d7a1",
   "metadata": {},
   "outputs": [],
   "source": [
    "from PIL import Image"
   ]
  },
  {
   "cell_type": "markdown",
   "id": "f1ab6a6d",
   "metadata": {},
   "source": [
    "## 1 - OPEN IMAGES"
   ]
  },
  {
   "cell_type": "code",
   "execution_count": null,
   "id": "e63ca294",
   "metadata": {},
   "outputs": [],
   "source": [
    "ref_path = \"data/six_pub_example.jpg\"\n",
    "ref = Image.open(ref_path)\n",
    "print(ref.format, ref.size, ref.mode)"
   ]
  },
  {
   "cell_type": "code",
   "execution_count": null,
   "id": "386e7d8b",
   "metadata": {},
   "outputs": [],
   "source": [
    "base_path = \"data/base.jpg\"\n",
    "base = Image.open(base_path)\n",
    "print(base.format, base.size, base.mode)"
   ]
  },
  {
   "cell_type": "code",
   "execution_count": null,
   "id": "809b5834",
   "metadata": {},
   "outputs": [],
   "source": [
    "aum_path = \"data/aum.webp\"\n",
    "aum = Image.open(aum_path)\n",
    "print(aum.format, aum.size, aum.mode)"
   ]
  },
  {
   "cell_type": "markdown",
   "id": "cd8c396e",
   "metadata": {},
   "source": [
    "## 2 - CREATE BASE IMAGE"
   ]
  },
  {
   "cell_type": "code",
   "execution_count": null,
   "id": "23686364",
   "metadata": {},
   "outputs": [],
   "source": [
    "# --- Utilisation ---\n",
    "# - conserve la hauteur de ref\n",
    "# - pas de déformation\n",
    "# - décalage horizontal de offset_x px avant crop\n",
    "from utils import resize_match_ref_height_and_crop\n",
    "\n",
    "resized = resize_match_ref_height_and_crop(\n",
    "    base, ref,\n",
    "    offset_x=60,     # décale la fenêtre de crop vers la droite\n",
    "    offset_y=0,      # laisse 0 (on a déjà la bonne hauteur)\n",
    "    resample=Image.Resampling.BICUBIC,\n",
    "    pad_if_narrow=True,     # si base_redim est plus étroite que ref, on pad\n",
    "    pad_fill=(0,0,0,0)      # fond transparent si RGBA, sinon mets un RGB\n",
    ")\n",
    "\n",
    "# result a exactement la taille de ref.size\n",
    "resized.save(\"results/align_ref_height.png\")\n",
    "print(resized.size)\n"
   ]
  },
  {
   "cell_type": "code",
   "execution_count": null,
   "id": "d8ea0a53",
   "metadata": {},
   "outputs": [],
   "source": [
    "from utils import upscale_preserve_aspect\n",
    "\n",
    "resized_big = upscale_preserve_aspect(resized, scale=2.0)\n",
    "resized_big.save(\"results/resized_big.png\")"
   ]
  },
  {
   "cell_type": "markdown",
   "id": "190a9153",
   "metadata": {},
   "source": [
    "## 3 - CREATE WATERMARK"
   ]
  },
  {
   "cell_type": "code",
   "execution_count": null,
   "id": "a292703d",
   "metadata": {},
   "outputs": [],
   "source": [
    "from utils import select_black_pixels\n",
    "\n",
    "blacked = select_black_pixels(\n",
    "    img=aum,\n",
    "    r_max=50,\n",
    "    g_max=50,\n",
    "    b_max=50,\n",
    "    mode=\"mask\"\n",
    ")\n",
    "blacked.save(f\"results/blacked_aum.png\")"
   ]
  },
  {
   "cell_type": "markdown",
   "id": "d54a2442",
   "metadata": {},
   "source": [
    "## 4 - APPLY WATERMARK"
   ]
  },
  {
   "cell_type": "code",
   "execution_count": null,
   "id": "e8134f37",
   "metadata": {},
   "outputs": [],
   "source": [
    "from utils import subtract_constant_clip0, add_constant_clip255\n",
    "from utils import subtract_images\n",
    "\n",
    "out = subtract_images(resized_big, blacked, match_size=True)\n",
    "out.save(\"results/sub_L.png\")"
   ]
  },
  {
   "cell_type": "code",
   "execution_count": null,
   "id": "b74804fd",
   "metadata": {},
   "outputs": [],
   "source": [
    "from utils import add_images\n",
    "\n",
    "out = add_images(resized_big, blacked, match_size=True)\n",
    "out.save(\"results/add_L.png\")"
   ]
  },
  {
   "cell_type": "markdown",
   "id": "bcefa5b5",
   "metadata": {},
   "source": [
    "## 5 - SPLIT IN TILES"
   ]
  },
  {
   "cell_type": "code",
   "execution_count": null,
   "id": "947e038e",
   "metadata": {},
   "outputs": [],
   "source": [
    "from utils import split_grid\n",
    "\n",
    "tiles = split_grid(out, rows=2, cols=3)\n",
    "\n",
    "# Sauvegarder chaque tuile\n",
    "for i, t in enumerate(tiles):\n",
    "    t.save(f\"tiles/tile_{i:02d}.png\")"
   ]
  },
  {
   "cell_type": "markdown",
   "id": "32ff3c0a",
   "metadata": {},
   "source": [
    "<h1 align=\"center\">GENERATE INSTAGRAM TILES</h1>"
   ]
  },
  {
   "cell_type": "code",
   "execution_count": 1,
   "id": "19287555",
   "metadata": {},
   "outputs": [],
   "source": [
    "from PIL import Image\n",
    "from utils import   resize_match_ref_height_and_crop, \\\n",
    "                    upscale_preserve_aspect, \\\n",
    "                    select_black_pixels, \\\n",
    "                    subtract_constant_clip0, \\\n",
    "                    add_constant_clip255, \\\n",
    "                    subtract_images, \\\n",
    "                    add_images, \\\n",
    "                    split_grid, \\\n",
    "                    grey_mask, \\\n",
    "                    save_tiles\n",
    "                    "
   ]
  },
  {
   "cell_type": "code",
   "execution_count": 2,
   "id": "4a5d70fb",
   "metadata": {},
   "outputs": [],
   "source": [
    "ref_path = \"data/six_pub_example.jpg\"\n",
    "base_path = \"data/stones.jpg\"\n",
    "wmark_path = \"data/aum2.jpg\"\n",
    "\n",
    "ref = Image.open(ref_path)\n",
    "base = Image.open(base_path)\n",
    "wmark = Image.open(wmark_path)"
   ]
  },
  {
   "cell_type": "code",
   "execution_count": null,
   "id": "552ec213",
   "metadata": {},
   "outputs": [],
   "source": [
    "# config base transform\n",
    "offset_x=60\n",
    "offset_y=0\n",
    "resample=Image.Resampling.BICUBIC\n",
    "scale=2.0\n",
    "\n",
    "# config watermark\n",
    "r_max=50\n",
    "g_max=50\n",
    "b_max=50\n",
    "\n",
    "# mode\n",
    "mask_mode=\"grey_watermark\" # dark_watermark, light_watermark, grey_watermark\n",
    "k=180\n",
    "split_color_mode=None # None, grey_even"
   ]
  },
  {
   "cell_type": "code",
   "execution_count": null,
   "id": "b9a33cdd",
   "metadata": {},
   "outputs": [],
   "source": [
    "resized = resize_match_ref_height_and_crop(\n",
    "    base, ref,\n",
    "    offset_x=offset_x,     # décale la fenêtre de crop vers la droite\n",
    "    offset_y=offset_y,      # laisse 0 (on a déjà la bonne hauteur)\n",
    "    resample=resample,\n",
    "    pad_if_narrow=True,     # si base_redim est plus étroite que ref, on pad\n",
    "    pad_fill=(0,0,0,0)      # fond transparent si RGBA, sinon mets un RGB\n",
    ")\n",
    "\n",
    "resized_big = upscale_preserve_aspect(resized, scale=scale)\n",
    "\n",
    "#resized_big = resized_big.quantize(colors=32, method=Image.Quantize.MEDIANCUT, kmeans=3)\n",
    "resized_big = resized_big.quantize(colors=16, dither=Image.Dither.FLOYDSTEINBERG)\n",
    "\n",
    "blacked = select_black_pixels(\n",
    "    img=wmark,\n",
    "    r_max=150,\n",
    "    g_max=150,\n",
    "    b_max=150,\n",
    "    mode=\"mask\"\n",
    ")\n",
    "\n",
    "if mask_mode == \"dark_watermark\":\n",
    "    out = subtract_images(resized_big, blacked, match_size=True, k=k)\n",
    "elif mask_mode == \"light_watermark\":\n",
    "    out = add_images(resized_big, blacked, match_size=True, k=k)\n",
    "else:\n",
    "    out = grey_mask(\n",
    "        resized_big, blacked,\n",
    "        threshold=128, feather=2.0,\n",
    "        invert_mask=True,\n",
    "        outline_width=1, outline_color=(0, 0, 0), \n",
    "        outline_opacity=220, \n",
    "        outline_feather=1.0\n",
    "    )\n",
    "\n",
    "tiles = split_grid(out, rows=2, cols=3)\n",
    "\n",
    "save_tiles(out=out, tiles=tiles, folder='tiles', mask_mode=mask_mode, split_color_mode=split_color_mode)"
   ]
  },
  {
   "cell_type": "code",
   "execution_count": null,
   "id": "3e3d6a37",
   "metadata": {},
   "outputs": [],
   "source": []
  }
 ],
 "metadata": {
  "kernelspec": {
   "display_name": "Python 3",
   "language": "python",
   "name": "python3"
  },
  "language_info": {
   "codemirror_mode": {
    "name": "ipython",
    "version": 3
   },
   "file_extension": ".py",
   "mimetype": "text/x-python",
   "name": "python",
   "nbconvert_exporter": "python",
   "pygments_lexer": "ipython3",
   "version": "3.11.9"
  }
 },
 "nbformat": 4,
 "nbformat_minor": 5
}
