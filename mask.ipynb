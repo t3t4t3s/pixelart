{
 "cells": [
  {
   "cell_type": "markdown",
   "id": "d4898db9",
   "metadata": {},
   "source": [
    "<h1 align=\"center\">GENERATE RANDOM MASKS</h1>"
   ]
  },
  {
   "cell_type": "code",
   "execution_count": 1,
   "id": "8899fcc9",
   "metadata": {},
   "outputs": [],
   "source": [
    "from PIL import Image\n",
    "from utils import select_black_pixels"
   ]
  },
  {
   "cell_type": "markdown",
   "id": "d126d6b4",
   "metadata": {},
   "source": [
    "## 1 - OPEN IMAGES"
   ]
  },
  {
   "cell_type": "code",
   "execution_count": 2,
   "id": "47a06624",
   "metadata": {},
   "outputs": [],
   "source": [
    "base_path = \"data/automne.jpg\"\n",
    "wmark_path = \"data/stain.jpg\"\n",
    "\n",
    "base = Image.open(base_path)\n",
    "wmark = Image.open(wmark_path)"
   ]
  },
  {
   "cell_type": "markdown",
   "id": "cb564fbb",
   "metadata": {},
   "source": [
    "## 2 - CREATE RANDOM MASK"
   ]
  },
  {
   "cell_type": "code",
   "execution_count": 3,
   "id": "2c8d2ac9",
   "metadata": {},
   "outputs": [
    {
     "ename": "ImportError",
     "evalue": "cannot import name 'create_random_white_mask' from 'utils' (c:\\Users\\jeanc\\JCJ\\pixelart\\utils.py)",
     "output_type": "error",
     "traceback": [
      "\u001b[1;31m---------------------------------------------------------------------------\u001b[0m",
      "\u001b[1;31mImportError\u001b[0m                               Traceback (most recent call last)",
      "Cell \u001b[1;32mIn[3], line 1\u001b[0m\n\u001b[1;32m----> 1\u001b[0m \u001b[38;5;28;01mfrom\u001b[39;00m \u001b[38;5;21;01mutils\u001b[39;00m \u001b[38;5;28;01mimport\u001b[39;00m create_random_white_mask\n\u001b[0;32m      3\u001b[0m \u001b[38;5;66;03m# Select stain object\u001b[39;00m\n\u001b[0;32m      4\u001b[0m blacked_stain \u001b[38;5;241m=\u001b[39m select_black_pixels(\n\u001b[0;32m      5\u001b[0m     img\u001b[38;5;241m=\u001b[39mwmark,\n\u001b[0;32m      6\u001b[0m     r_max\u001b[38;5;241m=\u001b[39m\u001b[38;5;241m150\u001b[39m,\n\u001b[1;32m   (...)\u001b[0m\n\u001b[0;32m      9\u001b[0m     mode\u001b[38;5;241m=\u001b[39m\u001b[38;5;124m\"\u001b[39m\u001b[38;5;124mmask\u001b[39m\u001b[38;5;124m\"\u001b[39m\n\u001b[0;32m     10\u001b[0m )\n",
      "\u001b[1;31mImportError\u001b[0m: cannot import name 'create_random_white_mask' from 'utils' (c:\\Users\\jeanc\\JCJ\\pixelart\\utils.py)"
     ]
    }
   ],
   "source": [
    "from utils import create_random_white_mask\n",
    "\n",
    "# Select stain object\n",
    "blacked_stain = select_black_pixels(\n",
    "    img=wmark,\n",
    "    r_max=150,\n",
    "    g_max=150,\n",
    "    b_max=150,\n",
    "    mode=\"mask\"\n",
    ")\n",
    "\n",
    "# Create black backgound\n",
    "black_color: tuple[int,int,int] = (0, 0, 0) \n",
    "black_bg = Image.new(\"RGBA\", base.size, black_color)\n",
    "\n",
    "# Generate a stain object 10 times thiner than base image\n",
    "blacked_resized = blacked_stain.resize((round(base.size[0]/10),round(base.size[1]/10)))\n",
    "\n",
    "# Generate random mask from stain\n",
    "mask = create_random_white_mask(\n",
    "    black_bg, blacked_resized,\n",
    "    n=200,\n",
    "    scale_range=(0.5, 2.4),\n",
    "    angle_range=(-180, 180),\n",
    "    threshold=None,        # None -> niveaux de gris du mask (bords doux)\n",
    "    feather_edge=1.0,      # lisser légèrement les contours\n",
    "    seed=64\n",
    ")\n",
    "\n",
    "# Save random mask\n",
    "mask.save(\"masks/random_stains_mask.jpg\")"
   ]
  },
  {
   "cell_type": "markdown",
   "id": "57fe60dd",
   "metadata": {},
   "source": [
    "## 3 - CREATE MASKED IMAGE"
   ]
  },
  {
   "cell_type": "code",
   "execution_count": null,
   "id": "bd9baeb5",
   "metadata": {},
   "outputs": [],
   "source": [
    "from utils import apply_composite_mask\n",
    "\n",
    "masked = apply_composite_mask(base, mask, threshold=200, invert_mask=False)\n",
    "masked.save(\"masks/random_stains_masked_image.jpg\")"
   ]
  }
 ],
 "metadata": {
  "kernelspec": {
   "display_name": "Python 3",
   "language": "python",
   "name": "python3"
  },
  "language_info": {
   "codemirror_mode": {
    "name": "ipython",
    "version": 3
   },
   "file_extension": ".py",
   "mimetype": "text/x-python",
   "name": "python",
   "nbconvert_exporter": "python",
   "pygments_lexer": "ipython3",
   "version": "3.11.9"
  }
 },
 "nbformat": 4,
 "nbformat_minor": 5
}
